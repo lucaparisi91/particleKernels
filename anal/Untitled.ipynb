{
 "cells": [
  {
   "cell_type": "code",
   "execution_count": 1,
   "metadata": {},
   "outputs": [],
   "source": [
    "import numpy as np\n",
    "import scipy as sp"
   ]
  },
  {
   "cell_type": "code",
   "execution_count": 2,
   "metadata": {},
   "outputs": [],
   "source": [
    "N=100"
   ]
  },
  {
   "cell_type": "code",
   "execution_count": 56,
   "metadata": {},
   "outputs": [
    {
     "data": {
      "text/plain": [
       "[124750, 125250]"
      ]
     },
     "execution_count": 56,
     "metadata": {},
     "output_type": "execute_result"
    }
   ],
   "source": [
    "iIndices=np.arange(0,N)\n",
    "iSizes=np.array(iIndices)\n",
    "\n",
    "def chunk(weights,size):\n",
    "    iMax=len(weights)//size\n",
    "    weight_chunks= [ np.sum(weights[i:i+size]) for i in range(iMax) ]\n",
    "    if (len(weights)%size)!=0: # if number of weights is not a multiple of size\n",
    "        weight_chunks.append(np.sum(weights[iMax:]))\n",
    "    return weight_chunks\n",
    "def chunk_guided(weights,nThreads):\n",
    "    i=0\n",
    "    chunk_ws=[]\n",
    "    while(i< len(weights)):\n",
    "        print(i)\n",
    "        size=np.max( [1, (len(weights)-i)//nThreads ])\n",
    "        chunk_w = np.sum(weights[i:np.min([i+size,len(weights)]) ])\n",
    "        chunk_ws.append(chunk_w)\n",
    "        i+=size\n",
    "    return chunk_ws\n",
    "\n",
    "chunked_weights=chunk(iSizes,N//2)\n",
    "chunked_weights\n",
    "chunked_weights"
   ]
  },
  {
   "cell_type": "code",
   "execution_count": null,
   "metadata": {},
   "outputs": [],
   "source": []
  },
  {
   "cell_type": "code",
   "execution_count": null,
   "metadata": {},
   "outputs": [],
   "source": []
  }
 ],
 "metadata": {
  "kernelspec": {
   "display_name": "Python 3",
   "language": "python",
   "name": "python3"
  },
  "language_info": {
   "codemirror_mode": {
    "name": "ipython",
    "version": 3
   },
   "file_extension": ".py",
   "mimetype": "text/x-python",
   "name": "python",
   "nbconvert_exporter": "python",
   "pygments_lexer": "ipython3",
   "version": "3.8.5"
  }
 },
 "nbformat": 4,
 "nbformat_minor": 4
}
